{
 "cells": [
  {
   "cell_type": "code",
   "execution_count": null,
   "id": "367dab4b",
   "metadata": {},
   "outputs": [],
   "source": [
    "import numpy as np\n",
    "import pandas as pd\n",
    "import matplotlib.pyplot as plt\n",
    "df = pd.read_csv(\"titanic-dataset.csv\",index_col=\"PassengerId\")\n",
    "df.head(20)"
   ]
  },
  {
   "cell_type": "code",
   "execution_count": null,
   "id": "b94e454a",
   "metadata": {},
   "outputs": [],
   "source": [
    "Survivors=df[\"Survived\"].sum()\n",
    "print(Survivors)\n",
    "Deceased=891-Survivors\n",
    "plt.bar(f\"supervivientes:{Survivors}\",Survivors,0.8)\n",
    "plt.bar(f\"fallecidos:{Deceased}\", Deceased, 0.8)\n",
    "plt.show()"
   ]
  }
 ],
 "metadata": {
  "language_info": {
   "name": "python"
  }
 },
 "nbformat": 4,
 "nbformat_minor": 5
}
